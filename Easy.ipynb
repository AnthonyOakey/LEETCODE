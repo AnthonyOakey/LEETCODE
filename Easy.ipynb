{
 "cells": [
  {
   "cell_type": "code",
   "execution_count": null,
   "metadata": {},
   "outputs": [],
   "source": [
    "#Sum of Array\n",
    "class Solution(object):\n",
    "    def runningSum(self, nums):\n",
    "        sums=[]\n",
    "        sum=0\n",
    "        for x in nums:\n",
    "            sum=sum+x\n",
    "            sums.append(sum)\n",
    "        return sums"
   ]
  },
  {
   "cell_type": "code",
   "execution_count": 1,
   "metadata": {},
   "outputs": [
    {
     "name": "stdout",
     "output_type": "stream",
     "text": [
      "0\n",
      "4\n"
     ]
    }
   ],
   "source": [
    "#Pairs\n",
    "class Solution(object):\n",
    "    def numIdenticalPairs(self, nums):\n",
    "        pair=0\n",
    "        for i1 in range(len(nums)):\n",
    "            for i2 in range(len(nums)):\n",
    "                if nums[i2]==nums[i1] and i2>i1:\n",
    "                    pair=pair+1\n",
    "        return pair\n",
    "                \n",
    "            \n",
    "        \"\"\"\n",
    "        :type nums: List[int]\n",
    "        :rtype: int\n",
    "        \"\"\"\n",
    "        "
   ]
  },
  {
   "cell_type": "code",
   "execution_count": null,
   "metadata": {},
   "outputs": [],
   "source": [
    "#shuffle array\n",
    "class Solution(object):\n",
    "    def shuffle(self, nums, n):\n",
    "        returns=[]\n",
    "        for x in range(n):\n",
    "            returns.append(nums[x])\n",
    "            returns.append(nums[x+n])\n",
    "        return returns\n",
    "            \n",
    "        \"\"\"\n",
    "        :type nums: List[int]\n",
    "        :type n: int\n",
    "        :rtype: List[int]\n",
    "        \"\"\"\n",
    "        "
   ]
  },
  {
   "cell_type": "code",
   "execution_count": 4,
   "metadata": {},
   "outputs": [],
   "source": [
    "#Candies\n",
    "\n",
    "class Solution(object):\n",
    "    def kidsWithCandies(self, candies, extraCandies):\n",
    "        maxes=max(candies)\n",
    "        true=[]\n",
    "        for x in range(len(candies)):\n",
    "            if candies[x]+extraCandies>=maxes:\n",
    "                true.append(True)\n",
    "            else:\n",
    "                true.append(False)\n",
    "        return true\n",
    "        \"\"\"\n",
    "        :type candies: List[int]\n",
    "        :type extraCandies: int\n",
    "        :rtype: List[bool]\n",
    "        \"\"\"\n",
    "        "
   ]
  },
  {
   "cell_type": "code",
   "execution_count": 5,
   "metadata": {},
   "outputs": [
    {
     "name": "stdout",
     "output_type": "stream",
     "text": [
      "[5, 6, 8, 'false', 6]\n"
     ]
    }
   ],
   "source": [
    "#IP Address\n",
    "class Solution(object):\n",
    "    def defangIPaddr(self, address):\n",
    "        return address.replace('.','[.]')"
   ]
  },
  {
   "cell_type": "code",
   "execution_count": null,
   "metadata": {},
   "outputs": [],
   "source": [
    "#Reduce to 0\n",
    "class Solution(object):\n",
    "    def numberOfSteps (self, num,step=0):\n",
    "        if num%2==0 and num!=0:\n",
    "            step=step+1\n",
    "            num=num/2\n",
    "            if num==0:\n",
    "                return step\n",
    "            else:\n",
    "                return self.numberOfSteps(num,step)\n",
    "        elif num%2!=0 and num!=0:\n",
    "            step=step+1\n",
    "            num=num-1\n",
    "            if num==0:\n",
    "                return step\n",
    "            else:\n",
    "                return self.numberOfSteps(num,step)\n",
    "        if num==0:\n",
    "            return step\n",
    "        return step\n",
    "       "
   ]
  },
  {
   "cell_type": "code",
   "execution_count": null,
   "metadata": {},
   "outputs": [],
   "source": [
    "#Number of Stones\n",
    "class Solution(object):\n",
    "    def numJewelsInStones(self, J, S):\n",
    "        total=0\n",
    "        for x in J:\n",
    "            for y in S:\n",
    "                if x==y:\n",
    "                    tota\n"
   ]
  },
  {
   "cell_type": "code",
   "execution_count": null,
   "metadata": {},
   "outputs": [],
   "source": [
    "#Smaller Numbers\n",
    "class Solution(object):\n",
    "    def smallerNumbersThanCurrent(self, nums):\n",
    "        amount=[]\n",
    "        for x in range(len(nums)):\n",
    "            total=0\n",
    "            for y in range(len(nums)):\n",
    "                if x!=y and nums[y]<nums[x]:\n",
    "                    total=total+1\n",
    "            amount.append(total)\n",
    "        return amount"
   ]
  },
  {
   "cell_type": "code",
   "execution_count": null,
   "metadata": {},
   "outputs": [],
   "source": [
    "#XOR\n",
    "class Solution(object):\n",
    "    def xorOperation(self, n, start):\n",
    "        total=0\n",
    "        for x in range(n):\n",
    "            total=total^start+2*x\n",
    "        return total"
   ]
  },
  {
   "cell_type": "code",
   "execution_count": 30,
   "metadata": {},
   "outputs": [],
   "source": []
  },
  {
   "cell_type": "code",
   "execution_count": 33,
   "metadata": {},
   "outputs": [
    {
     "name": "stdout",
     "output_type": "stream",
     "text": [
      "STEP\n",
      "0\n",
      "0\n",
      "NO\n",
      "2\n",
      "3\n",
      "STEP\n",
      "1\n",
      "0\n",
      "Yes\n",
      "3\n",
      "3\n",
      "STEP\n",
      "2\n",
      "1\n",
      "Yes\n",
      "3\n",
      "2\n",
      "STEP\n",
      "3\n",
      "2\n",
      "NO\n",
      "2\n",
      "4\n",
      "STEP\n",
      "4\n",
      "2\n",
      "HELLO\n",
      "2\n",
      "K\n"
     ]
    },
    {
     "data": {
      "text/plain": [
       "False"
      ]
     },
     "execution_count": 33,
     "metadata": {},
     "output_type": "execute_result"
    }
   ],
   "source": []
  },
  {
   "cell_type": "code",
   "execution_count": null,
   "metadata": {},
   "outputs": [],
   "source": []
  }
 ],
 "metadata": {
  "kernelspec": {
   "display_name": "Python 3",
   "language": "python",
   "name": "python3"
  },
  "language_info": {
   "codemirror_mode": {
    "name": "ipython",
    "version": 3
   },
   "file_extension": ".py",
   "mimetype": "text/x-python",
   "name": "python",
   "nbconvert_exporter": "python",
   "pygments_lexer": "ipython3",
   "version": "3.7.6"
  }
 },
 "nbformat": 4,
 "nbformat_minor": 4
}
